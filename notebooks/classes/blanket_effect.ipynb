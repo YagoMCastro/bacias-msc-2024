{
 "cells": [
  {
   "cell_type": "code",
   "execution_count": null,
   "metadata": {},
   "outputs": [],
   "source": [
    "import numpy as np\n",
    "import matplotlib.pyplot as plt"
   ]
  },
  {
   "cell_type": "code",
   "execution_count": null,
   "metadata": {},
   "outputs": [],
   "source": [
    "L = 120.0e3\n",
    "dx = 500.0 \n",
    "\n",
    "x = np.arange(0,L,dx)\n",
    "\n",
    "hs = 10.0e3\n",
    "dT = 1300.0\n",
    "\n",
    "kappa0 = 1.0e-6 # Thermal diffusivity of bedrock\n",
    "kappa_s = 0.5e-6 # Thermal diffusivity of sedimantary layer\n",
    "\n",
    "kappa_vec = x*0 + kappa0\n",
    "kappa_vec[x<hs] = kappa_s\n",
    "\n",
    "T = x*dT/L\n",
    "\n",
    "sec_year = 365.0*24*60*60\n",
    "\n",
    "t =0.0\n",
    "dt = 1e3\n",
    "t_max = 200e6\n",
    "\n",
    "plt.plot(T,x/1e3)\n",
    "plt.ylim(L/1e3,0)\n",
    "\n",
    "aux = dt*sec_year/dx**2\n",
    "\n",
    "while t<t_max:\n",
    "    T[1:-1] += aux*(kappa_vec[2:]*(T[2:]-T[1:-1])-kappa_vec[1:-1]*(T[1:-1]-T[:-2]))\n",
    "    t += dt\n",
    "\n",
    "plt.plot(T,x/1e3, 'r')"
   ]
  },
  {
   "cell_type": "code",
   "execution_count": null,
   "metadata": {},
   "outputs": [],
   "source": []
  }
 ],
 "metadata": {
  "kernelspec": {
   "display_name": "magali",
   "language": "python",
   "name": "python3"
  },
  "language_info": {
   "codemirror_mode": {
    "name": "ipython",
    "version": 3
   },
   "file_extension": ".py",
   "mimetype": "text/x-python",
   "name": "python",
   "nbconvert_exporter": "python",
   "pygments_lexer": "ipython3",
   "version": "3.12.0"
  }
 },
 "nbformat": 4,
 "nbformat_minor": 2
}
