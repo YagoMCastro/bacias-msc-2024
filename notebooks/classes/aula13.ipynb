{
 "cells": [
  {
   "cell_type": "markdown",
   "metadata": {},
   "source": [
    "# Reologia"
   ]
  },
  {
   "cell_type": "code",
   "execution_count": 1,
   "metadata": {},
   "outputs": [],
   "source": [
    "import numpy as np\n",
    "import matplotlib.pyplot as plt"
   ]
  },
  {
   "cell_type": "code",
   "execution_count": 2,
   "metadata": {},
   "outputs": [
    {
     "data": {
      "text/plain": [
       "7.927447995941147e-16"
      ]
     },
     "execution_count": 2,
     "metadata": {},
     "output_type": "execute_result"
    }
   ],
   "source": [
    "lithosphere_thickness_original = 120.0e3\n",
    "beta = 2.0\n",
    "lithosphere_thickness_final = lithosphere_thickness_original/beta\n",
    "\n",
    "sec_per_year = 365.0*24*3600\n",
    "\n",
    "dt = 20.0e6 \n",
    "\n",
    "deformation = (lithosphere_thickness_original-lithosphere_thickness_final)/(lithosphere_thickness_original)\n",
    "deformation_rate = deformation/(dt*sec_per_year)\n",
    "\n",
    "deformation_rate"
   ]
  },
  {
   "cell_type": "code",
   "execution_count": null,
   "metadata": {},
   "outputs": [],
   "source": []
  }
 ],
 "metadata": {
  "kernelspec": {
   "display_name": "magali",
   "language": "python",
   "name": "python3"
  },
  "language_info": {
   "codemirror_mode": {
    "name": "ipython",
    "version": 3
   },
   "file_extension": ".py",
   "mimetype": "text/x-python",
   "name": "python",
   "nbconvert_exporter": "python",
   "pygments_lexer": "ipython3",
   "version": "3.12.0"
  }
 },
 "nbformat": 4,
 "nbformat_minor": 2
}
