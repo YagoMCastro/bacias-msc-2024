{
 "cells": [
  {
   "cell_type": "code",
   "execution_count": null,
   "metadata": {},
   "outputs": [],
   "source": [
    "import numpy as np\n",
    "import matplotlib.pyplot as plt"
   ]
  },
  {
   "cell_type": "code",
   "execution_count": null,
   "metadata": {},
   "outputs": [],
   "source": [
    "def calculate_subsidence(subsidence_array, factor, initial_temp_sum, current_temp_sum):\n",
    "    subsidence_value = factor * -(current_temp_sum - initial_temp_sum)\n",
    "    subsidence_array = np.append(subsidence_array, subsidence_value)\n",
    "    return subsidence_array\n",
    "\n",
    "def mckenzie_model(temperature, diffusion_factor, subsidence_array, subsidence_factor, initial_temp_sum, index=None):\n",
    "    if index is None:\n",
    "        # 1D case\n",
    "        temperature[1:-1] += diffusion_factor * (temperature[2:] - 2 * temperature[1:-1] + temperature[:-2])\n",
    "        current_temp_sum = np.sum(temperature)\n",
    "        subsidence_array = calculate_subsidence(subsidence_array, subsidence_factor, initial_temp_sum, current_temp_sum)\n",
    "    else:\n",
    "        # 2D case\n",
    "        temperature[1:-1, 1:-1] += diffusion_factor * (\n",
    "            temperature[:-2, 1:-1] + temperature[2:, 1:-1] + \n",
    "            temperature[1:-1, :-2] + temperature[1:-1, 2:] - \n",
    "            4 * temperature[1:-1, 1:-1]\n",
    "        )\n",
    "        # Boundary conditions\n",
    "        temperature[:, 0] = temperature[:, 1]\n",
    "        temperature[:, -1] = temperature[:, -2]\n",
    "        current_temp_sum = np.sum(temperature, axis=0)[index]\n",
    "        subsidence_array = calculate_subsidence(subsidence_array, subsidence_factor, initial_temp_sum, current_temp_sum)\n",
    "    return temperature, subsidence_array\n",
    "\n",
    "def generate_temperature_field(initial_temp, thermal_expansion, depth, thermal_diffusivity):\n",
    "    temperature_field = depth * initial_temp * thermal_expansion / thermal_diffusivity\n",
    "    temperature_field[temperature_field > initial_temp] = initial_temp\n",
    "    return temperature_field"
   ]
  }
 ],
 "metadata": {
  "language_info": {
   "name": "python"
  }
 },
 "nbformat": 4,
 "nbformat_minor": 2
}
